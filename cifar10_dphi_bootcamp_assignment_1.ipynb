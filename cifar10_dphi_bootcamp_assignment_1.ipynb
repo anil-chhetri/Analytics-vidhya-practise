{
  "nbformat": 4,
  "nbformat_minor": 0,
  "metadata": {
    "colab": {
      "name": "cifar10_dphi_bootcamp_assignment_1.ipynb",
      "provenance": [],
      "authorship_tag": "ABX9TyMlDKjbn3IUJuPdXEGJ1cNb",
      "include_colab_link": true
    },
    "kernelspec": {
      "name": "python3",
      "display_name": "Python 3"
    }
  },
  "cells": [
    {
      "cell_type": "markdown",
      "metadata": {
        "id": "view-in-github",
        "colab_type": "text"
      },
      "source": [
        "<a href=\"https://colab.research.google.com/github/anil-chhetri/Analytics-vidhya-practise/blob/master/cifar10_dphi_bootcamp_assignment_1.ipynb\" target=\"_parent\"><img src=\"https://colab.research.google.com/assets/colab-badge.svg\" alt=\"Open In Colab\"/></a>"
      ]
    },
    {
      "cell_type": "code",
      "metadata": {
        "id": "RT99ZKSOjBJw",
        "colab_type": "code",
        "colab": {}
      },
      "source": [
        "import tensorflow as tf\n",
        "import numpy as np"
      ],
      "execution_count": null,
      "outputs": []
    },
    {
      "cell_type": "code",
      "metadata": {
        "id": "9xKrgBcYjRUY",
        "colab_type": "code",
        "colab": {}
      },
      "source": [
        "from tensorflow.keras.datasets import cifar10\n",
        "(xtrain, ytrain) , (xtest, ytest) = cifar10.load_data()"
      ],
      "execution_count": null,
      "outputs": []
    },
    {
      "cell_type": "code",
      "metadata": {
        "id": "VIvFmpHonDiJ",
        "colab_type": "code",
        "colab": {
          "base_uri": "https://localhost:8080/",
          "height": 50
        },
        "outputId": "0cb3b0ea-b78d-4f1b-8358-535a4e6c5d34"
      },
      "source": [
        "np.unique(ytrain), np.unique(ytest)"
      ],
      "execution_count": null,
      "outputs": [
        {
          "output_type": "execute_result",
          "data": {
            "text/plain": [
              "(array([0, 1, 2, 3, 4, 5, 6, 7, 8, 9], dtype=uint8),\n",
              " array([0, 1, 2, 3, 4, 5, 6, 7, 8, 9], dtype=uint8))"
            ]
          },
          "metadata": {
            "tags": []
          },
          "execution_count": 125
        }
      ]
    },
    {
      "cell_type": "code",
      "metadata": {
        "id": "bwues55cjaea",
        "colab_type": "code",
        "colab": {}
      },
      "source": [
        "import pandas as pd\n",
        "test_data = pd.read_csv(\"https://raw.githubusercontent.com/dphi-official/Datasets/master/cifar_image_flattened_pixels.csv\")"
      ],
      "execution_count": null,
      "outputs": []
    },
    {
      "cell_type": "code",
      "metadata": {
        "id": "YNeHLtuSjki7",
        "colab_type": "code",
        "colab": {
          "base_uri": "https://localhost:8080/",
          "height": 244
        },
        "outputId": "5d42cd95-5c0e-42be-c8c8-b75e1bb9c5d7"
      },
      "source": [
        "test_data.head()"
      ],
      "execution_count": null,
      "outputs": [
        {
          "output_type": "execute_result",
          "data": {
            "text/html": [
              "<div>\n",
              "<style scoped>\n",
              "    .dataframe tbody tr th:only-of-type {\n",
              "        vertical-align: middle;\n",
              "    }\n",
              "\n",
              "    .dataframe tbody tr th {\n",
              "        vertical-align: top;\n",
              "    }\n",
              "\n",
              "    .dataframe thead th {\n",
              "        text-align: right;\n",
              "    }\n",
              "</style>\n",
              "<table border=\"1\" class=\"dataframe\">\n",
              "  <thead>\n",
              "    <tr style=\"text-align: right;\">\n",
              "      <th></th>\n",
              "      <th>0</th>\n",
              "      <th>1</th>\n",
              "      <th>2</th>\n",
              "      <th>3</th>\n",
              "      <th>4</th>\n",
              "      <th>5</th>\n",
              "      <th>6</th>\n",
              "      <th>7</th>\n",
              "      <th>8</th>\n",
              "      <th>9</th>\n",
              "      <th>10</th>\n",
              "      <th>11</th>\n",
              "      <th>12</th>\n",
              "      <th>13</th>\n",
              "      <th>14</th>\n",
              "      <th>15</th>\n",
              "      <th>16</th>\n",
              "      <th>17</th>\n",
              "      <th>18</th>\n",
              "      <th>19</th>\n",
              "      <th>20</th>\n",
              "      <th>21</th>\n",
              "      <th>22</th>\n",
              "      <th>23</th>\n",
              "      <th>24</th>\n",
              "      <th>25</th>\n",
              "      <th>26</th>\n",
              "      <th>27</th>\n",
              "      <th>28</th>\n",
              "      <th>29</th>\n",
              "      <th>30</th>\n",
              "      <th>31</th>\n",
              "      <th>32</th>\n",
              "      <th>33</th>\n",
              "      <th>34</th>\n",
              "      <th>35</th>\n",
              "      <th>36</th>\n",
              "      <th>37</th>\n",
              "      <th>38</th>\n",
              "      <th>39</th>\n",
              "      <th>...</th>\n",
              "      <th>3032</th>\n",
              "      <th>3033</th>\n",
              "      <th>3034</th>\n",
              "      <th>3035</th>\n",
              "      <th>3036</th>\n",
              "      <th>3037</th>\n",
              "      <th>3038</th>\n",
              "      <th>3039</th>\n",
              "      <th>3040</th>\n",
              "      <th>3041</th>\n",
              "      <th>3042</th>\n",
              "      <th>3043</th>\n",
              "      <th>3044</th>\n",
              "      <th>3045</th>\n",
              "      <th>3046</th>\n",
              "      <th>3047</th>\n",
              "      <th>3048</th>\n",
              "      <th>3049</th>\n",
              "      <th>3050</th>\n",
              "      <th>3051</th>\n",
              "      <th>3052</th>\n",
              "      <th>3053</th>\n",
              "      <th>3054</th>\n",
              "      <th>3055</th>\n",
              "      <th>3056</th>\n",
              "      <th>3057</th>\n",
              "      <th>3058</th>\n",
              "      <th>3059</th>\n",
              "      <th>3060</th>\n",
              "      <th>3061</th>\n",
              "      <th>3062</th>\n",
              "      <th>3063</th>\n",
              "      <th>3064</th>\n",
              "      <th>3065</th>\n",
              "      <th>3066</th>\n",
              "      <th>3067</th>\n",
              "      <th>3068</th>\n",
              "      <th>3069</th>\n",
              "      <th>3070</th>\n",
              "      <th>3071</th>\n",
              "    </tr>\n",
              "  </thead>\n",
              "  <tbody>\n",
              "    <tr>\n",
              "      <th>0</th>\n",
              "      <td>98</td>\n",
              "      <td>105</td>\n",
              "      <td>108</td>\n",
              "      <td>92</td>\n",
              "      <td>101</td>\n",
              "      <td>106</td>\n",
              "      <td>91</td>\n",
              "      <td>101</td>\n",
              "      <td>107</td>\n",
              "      <td>93</td>\n",
              "      <td>104</td>\n",
              "      <td>108</td>\n",
              "      <td>89</td>\n",
              "      <td>100</td>\n",
              "      <td>104</td>\n",
              "      <td>88</td>\n",
              "      <td>99</td>\n",
              "      <td>103</td>\n",
              "      <td>90</td>\n",
              "      <td>101</td>\n",
              "      <td>106</td>\n",
              "      <td>95</td>\n",
              "      <td>105</td>\n",
              "      <td>110</td>\n",
              "      <td>99</td>\n",
              "      <td>108</td>\n",
              "      <td>110</td>\n",
              "      <td>109</td>\n",
              "      <td>117</td>\n",
              "      <td>116</td>\n",
              "      <td>119</td>\n",
              "      <td>125</td>\n",
              "      <td>123</td>\n",
              "      <td>125</td>\n",
              "      <td>130</td>\n",
              "      <td>128</td>\n",
              "      <td>134</td>\n",
              "      <td>140</td>\n",
              "      <td>138</td>\n",
              "      <td>140</td>\n",
              "      <td>...</td>\n",
              "      <td>184</td>\n",
              "      <td>178</td>\n",
              "      <td>177</td>\n",
              "      <td>172</td>\n",
              "      <td>190</td>\n",
              "      <td>188</td>\n",
              "      <td>184</td>\n",
              "      <td>220</td>\n",
              "      <td>219</td>\n",
              "      <td>214</td>\n",
              "      <td>195</td>\n",
              "      <td>193</td>\n",
              "      <td>187</td>\n",
              "      <td>176</td>\n",
              "      <td>174</td>\n",
              "      <td>169</td>\n",
              "      <td>175</td>\n",
              "      <td>173</td>\n",
              "      <td>168</td>\n",
              "      <td>192</td>\n",
              "      <td>189</td>\n",
              "      <td>185</td>\n",
              "      <td>185</td>\n",
              "      <td>182</td>\n",
              "      <td>178</td>\n",
              "      <td>168</td>\n",
              "      <td>165</td>\n",
              "      <td>161</td>\n",
              "      <td>178</td>\n",
              "      <td>176</td>\n",
              "      <td>171</td>\n",
              "      <td>183</td>\n",
              "      <td>182</td>\n",
              "      <td>176</td>\n",
              "      <td>175</td>\n",
              "      <td>175</td>\n",
              "      <td>168</td>\n",
              "      <td>181</td>\n",
              "      <td>181</td>\n",
              "      <td>175</td>\n",
              "    </tr>\n",
              "    <tr>\n",
              "      <th>1</th>\n",
              "      <td>101</td>\n",
              "      <td>108</td>\n",
              "      <td>101</td>\n",
              "      <td>101</td>\n",
              "      <td>108</td>\n",
              "      <td>101</td>\n",
              "      <td>102</td>\n",
              "      <td>109</td>\n",
              "      <td>102</td>\n",
              "      <td>103</td>\n",
              "      <td>110</td>\n",
              "      <td>103</td>\n",
              "      <td>105</td>\n",
              "      <td>112</td>\n",
              "      <td>104</td>\n",
              "      <td>105</td>\n",
              "      <td>114</td>\n",
              "      <td>109</td>\n",
              "      <td>105</td>\n",
              "      <td>116</td>\n",
              "      <td>112</td>\n",
              "      <td>106</td>\n",
              "      <td>115</td>\n",
              "      <td>110</td>\n",
              "      <td>108</td>\n",
              "      <td>115</td>\n",
              "      <td>108</td>\n",
              "      <td>107</td>\n",
              "      <td>115</td>\n",
              "      <td>107</td>\n",
              "      <td>104</td>\n",
              "      <td>115</td>\n",
              "      <td>106</td>\n",
              "      <td>104</td>\n",
              "      <td>116</td>\n",
              "      <td>108</td>\n",
              "      <td>108</td>\n",
              "      <td>119</td>\n",
              "      <td>115</td>\n",
              "      <td>108</td>\n",
              "      <td>...</td>\n",
              "      <td>149</td>\n",
              "      <td>153</td>\n",
              "      <td>159</td>\n",
              "      <td>164</td>\n",
              "      <td>132</td>\n",
              "      <td>140</td>\n",
              "      <td>142</td>\n",
              "      <td>134</td>\n",
              "      <td>144</td>\n",
              "      <td>145</td>\n",
              "      <td>112</td>\n",
              "      <td>119</td>\n",
              "      <td>118</td>\n",
              "      <td>108</td>\n",
              "      <td>115</td>\n",
              "      <td>111</td>\n",
              "      <td>114</td>\n",
              "      <td>124</td>\n",
              "      <td>122</td>\n",
              "      <td>106</td>\n",
              "      <td>118</td>\n",
              "      <td>116</td>\n",
              "      <td>101</td>\n",
              "      <td>113</td>\n",
              "      <td>108</td>\n",
              "      <td>100</td>\n",
              "      <td>111</td>\n",
              "      <td>102</td>\n",
              "      <td>99</td>\n",
              "      <td>110</td>\n",
              "      <td>103</td>\n",
              "      <td>100</td>\n",
              "      <td>109</td>\n",
              "      <td>104</td>\n",
              "      <td>100</td>\n",
              "      <td>109</td>\n",
              "      <td>103</td>\n",
              "      <td>100</td>\n",
              "      <td>109</td>\n",
              "      <td>102</td>\n",
              "    </tr>\n",
              "    <tr>\n",
              "      <th>2</th>\n",
              "      <td>85</td>\n",
              "      <td>115</td>\n",
              "      <td>27</td>\n",
              "      <td>63</td>\n",
              "      <td>90</td>\n",
              "      <td>25</td>\n",
              "      <td>37</td>\n",
              "      <td>66</td>\n",
              "      <td>15</td>\n",
              "      <td>69</td>\n",
              "      <td>93</td>\n",
              "      <td>49</td>\n",
              "      <td>40</td>\n",
              "      <td>52</td>\n",
              "      <td>36</td>\n",
              "      <td>18</td>\n",
              "      <td>24</td>\n",
              "      <td>18</td>\n",
              "      <td>31</td>\n",
              "      <td>38</td>\n",
              "      <td>27</td>\n",
              "      <td>79</td>\n",
              "      <td>91</td>\n",
              "      <td>61</td>\n",
              "      <td>104</td>\n",
              "      <td>117</td>\n",
              "      <td>78</td>\n",
              "      <td>72</td>\n",
              "      <td>84</td>\n",
              "      <td>52</td>\n",
              "      <td>68</td>\n",
              "      <td>79</td>\n",
              "      <td>52</td>\n",
              "      <td>122</td>\n",
              "      <td>131</td>\n",
              "      <td>85</td>\n",
              "      <td>104</td>\n",
              "      <td>113</td>\n",
              "      <td>67</td>\n",
              "      <td>77</td>\n",
              "      <td>...</td>\n",
              "      <td>139</td>\n",
              "      <td>174</td>\n",
              "      <td>188</td>\n",
              "      <td>139</td>\n",
              "      <td>182</td>\n",
              "      <td>198</td>\n",
              "      <td>150</td>\n",
              "      <td>179</td>\n",
              "      <td>194</td>\n",
              "      <td>147</td>\n",
              "      <td>175</td>\n",
              "      <td>186</td>\n",
              "      <td>142</td>\n",
              "      <td>187</td>\n",
              "      <td>195</td>\n",
              "      <td>158</td>\n",
              "      <td>176</td>\n",
              "      <td>191</td>\n",
              "      <td>142</td>\n",
              "      <td>169</td>\n",
              "      <td>190</td>\n",
              "      <td>132</td>\n",
              "      <td>177</td>\n",
              "      <td>193</td>\n",
              "      <td>144</td>\n",
              "      <td>180</td>\n",
              "      <td>189</td>\n",
              "      <td>147</td>\n",
              "      <td>175</td>\n",
              "      <td>190</td>\n",
              "      <td>141</td>\n",
              "      <td>172</td>\n",
              "      <td>193</td>\n",
              "      <td>136</td>\n",
              "      <td>173</td>\n",
              "      <td>192</td>\n",
              "      <td>138</td>\n",
              "      <td>179</td>\n",
              "      <td>192</td>\n",
              "      <td>149</td>\n",
              "    </tr>\n",
              "    <tr>\n",
              "      <th>3</th>\n",
              "      <td>213</td>\n",
              "      <td>213</td>\n",
              "      <td>214</td>\n",
              "      <td>215</td>\n",
              "      <td>214</td>\n",
              "      <td>218</td>\n",
              "      <td>220</td>\n",
              "      <td>218</td>\n",
              "      <td>226</td>\n",
              "      <td>223</td>\n",
              "      <td>221</td>\n",
              "      <td>233</td>\n",
              "      <td>226</td>\n",
              "      <td>225</td>\n",
              "      <td>231</td>\n",
              "      <td>225</td>\n",
              "      <td>226</td>\n",
              "      <td>223</td>\n",
              "      <td>223</td>\n",
              "      <td>223</td>\n",
              "      <td>223</td>\n",
              "      <td>227</td>\n",
              "      <td>226</td>\n",
              "      <td>231</td>\n",
              "      <td>229</td>\n",
              "      <td>228</td>\n",
              "      <td>236</td>\n",
              "      <td>229</td>\n",
              "      <td>228</td>\n",
              "      <td>236</td>\n",
              "      <td>230</td>\n",
              "      <td>229</td>\n",
              "      <td>236</td>\n",
              "      <td>228</td>\n",
              "      <td>227</td>\n",
              "      <td>235</td>\n",
              "      <td>227</td>\n",
              "      <td>226</td>\n",
              "      <td>234</td>\n",
              "      <td>225</td>\n",
              "      <td>...</td>\n",
              "      <td>20</td>\n",
              "      <td>111</td>\n",
              "      <td>41</td>\n",
              "      <td>28</td>\n",
              "      <td>111</td>\n",
              "      <td>63</td>\n",
              "      <td>60</td>\n",
              "      <td>120</td>\n",
              "      <td>92</td>\n",
              "      <td>98</td>\n",
              "      <td>138</td>\n",
              "      <td>117</td>\n",
              "      <td>129</td>\n",
              "      <td>153</td>\n",
              "      <td>140</td>\n",
              "      <td>158</td>\n",
              "      <td>172</td>\n",
              "      <td>161</td>\n",
              "      <td>187</td>\n",
              "      <td>188</td>\n",
              "      <td>174</td>\n",
              "      <td>205</td>\n",
              "      <td>195</td>\n",
              "      <td>182</td>\n",
              "      <td>212</td>\n",
              "      <td>199</td>\n",
              "      <td>185</td>\n",
              "      <td>216</td>\n",
              "      <td>197</td>\n",
              "      <td>186</td>\n",
              "      <td>216</td>\n",
              "      <td>193</td>\n",
              "      <td>194</td>\n",
              "      <td>209</td>\n",
              "      <td>201</td>\n",
              "      <td>204</td>\n",
              "      <td>216</td>\n",
              "      <td>203</td>\n",
              "      <td>201</td>\n",
              "      <td>237</td>\n",
              "    </tr>\n",
              "    <tr>\n",
              "      <th>4</th>\n",
              "      <td>41</td>\n",
              "      <td>74</td>\n",
              "      <td>144</td>\n",
              "      <td>41</td>\n",
              "      <td>75</td>\n",
              "      <td>139</td>\n",
              "      <td>41</td>\n",
              "      <td>75</td>\n",
              "      <td>139</td>\n",
              "      <td>41</td>\n",
              "      <td>74</td>\n",
              "      <td>144</td>\n",
              "      <td>39</td>\n",
              "      <td>76</td>\n",
              "      <td>140</td>\n",
              "      <td>37</td>\n",
              "      <td>79</td>\n",
              "      <td>130</td>\n",
              "      <td>38</td>\n",
              "      <td>77</td>\n",
              "      <td>135</td>\n",
              "      <td>40</td>\n",
              "      <td>75</td>\n",
              "      <td>142</td>\n",
              "      <td>43</td>\n",
              "      <td>72</td>\n",
              "      <td>145</td>\n",
              "      <td>47</td>\n",
              "      <td>71</td>\n",
              "      <td>146</td>\n",
              "      <td>47</td>\n",
              "      <td>73</td>\n",
              "      <td>140</td>\n",
              "      <td>43</td>\n",
              "      <td>75</td>\n",
              "      <td>140</td>\n",
              "      <td>39</td>\n",
              "      <td>77</td>\n",
              "      <td>143</td>\n",
              "      <td>37</td>\n",
              "      <td>...</td>\n",
              "      <td>149</td>\n",
              "      <td>42</td>\n",
              "      <td>71</td>\n",
              "      <td>135</td>\n",
              "      <td>43</td>\n",
              "      <td>72</td>\n",
              "      <td>125</td>\n",
              "      <td>42</td>\n",
              "      <td>72</td>\n",
              "      <td>122</td>\n",
              "      <td>51</td>\n",
              "      <td>72</td>\n",
              "      <td>117</td>\n",
              "      <td>64</td>\n",
              "      <td>70</td>\n",
              "      <td>109</td>\n",
              "      <td>65</td>\n",
              "      <td>72</td>\n",
              "      <td>99</td>\n",
              "      <td>53</td>\n",
              "      <td>76</td>\n",
              "      <td>113</td>\n",
              "      <td>35</td>\n",
              "      <td>75</td>\n",
              "      <td>136</td>\n",
              "      <td>30</td>\n",
              "      <td>81</td>\n",
              "      <td>140</td>\n",
              "      <td>34</td>\n",
              "      <td>79</td>\n",
              "      <td>133</td>\n",
              "      <td>41</td>\n",
              "      <td>77</td>\n",
              "      <td>130</td>\n",
              "      <td>44</td>\n",
              "      <td>75</td>\n",
              "      <td>133</td>\n",
              "      <td>42</td>\n",
              "      <td>73</td>\n",
              "      <td>144</td>\n",
              "    </tr>\n",
              "  </tbody>\n",
              "</table>\n",
              "<p>5 rows × 3072 columns</p>\n",
              "</div>"
            ],
            "text/plain": [
              "     0    1    2    3    4    5    6  ...  3065  3066  3067  3068  3069  3070  3071\n",
              "0   98  105  108   92  101  106   91  ...   176   175   175   168   181   181   175\n",
              "1  101  108  101  101  108  101  102  ...   104   100   109   103   100   109   102\n",
              "2   85  115   27   63   90   25   37  ...   136   173   192   138   179   192   149\n",
              "3  213  213  214  215  214  218  220  ...   209   201   204   216   203   201   237\n",
              "4   41   74  144   41   75  139   41  ...   130    44    75   133    42    73   144\n",
              "\n",
              "[5 rows x 3072 columns]"
            ]
          },
          "metadata": {
            "tags": []
          },
          "execution_count": 127
        }
      ]
    },
    {
      "cell_type": "code",
      "metadata": {
        "id": "RjxUAn65kL5I",
        "colab_type": "code",
        "colab": {}
      },
      "source": [
        "from matplotlib import pyplot as plt"
      ],
      "execution_count": null,
      "outputs": []
    },
    {
      "cell_type": "code",
      "metadata": {
        "id": "SKhoHrbBjoRa",
        "colab_type": "code",
        "colab": {
          "base_uri": "https://localhost:8080/",
          "height": 324
        },
        "outputId": "909d874c-e86b-4ad8-e864-81f47b8d8473"
      },
      "source": [
        "image = xtrain[:4]\n",
        "label = ytrain[:4]\n",
        "fig = plt.figure(figsize=(20,10))\n",
        "\n",
        "print('image shape: ', image[0].shape)\n",
        "\n",
        "for index, data in enumerate(zip(image, label)):\n",
        "  fig.add_subplot(1,4,index+1)\n",
        "  plt.imshow(data[0])\n",
        "  plt.title(data[1][0])"
      ],
      "execution_count": null,
      "outputs": [
        {
          "output_type": "stream",
          "text": [
            "image shape:  (32, 32, 3)\n"
          ],
          "name": "stdout"
        },
        {
          "output_type": "display_data",
          "data": {
            "image/png": "[encoded data removed]",
            "text/plain": [
              "<Figure size 1440x720 with 4 Axes>"
            ]
          },
          "metadata": {
            "tags": [],
            "needs_background": "light"
          }
        }
      ]
    },
    {
      "cell_type": "code",
      "metadata": {
        "id": "7DlIgqrIkYMb",
        "colab_type": "code",
        "colab": {}
      },
      "source": [
        "from tensorflow.keras.models import Sequential\n",
        "from tensorflow.keras.layers import Dense, Dropout\n",
        "from tensorflow.keras.optimizers import SGD, Adam\n",
        "from tensorflow.keras.utils import to_categorical\n",
        "from tensorflow.keras.callbacks import EarlyStopping"
      ],
      "execution_count": null,
      "outputs": []
    },
    {
      "cell_type": "code",
      "metadata": {
        "id": "lss_I2Y7CY8G",
        "colab_type": "code",
        "colab": {}
      },
      "source": [
        "es = EarlyStopping(patience=3, verbose=1)"
      ],
      "execution_count": null,
      "outputs": []
    },
    {
      "cell_type": "code",
      "metadata": {
        "id": "D0LsZjw1m2ge",
        "colab_type": "code",
        "colab": {}
      },
      "source": [
        "model = Sequential() \n",
        "model.add(Dense(60, activation='relu', input_shape=(3072, )))\n",
        "\n",
        "model.add(Dense(512, activation='relu'))\n",
        "model.add(Dense(128, activation='relu'))\n",
        "model.add(Dense(512, activation='relu'))\n",
        "model.add(Dense(512, activation='relu'))\n",
        "\n",
        "\n",
        "model.add(Dense(10, activation='softmax'))\n",
        "model.compile(loss='categorical_crossentropy', optimizer=SGD(learning_rate=0.001), metrics=['accuracy'])"
      ],
      "execution_count": null,
      "outputs": []
    },
    {
      "cell_type": "markdown",
      "metadata": {
        "id": "X3B4Pst4ofWc",
        "colab_type": "text"
      },
      "source": [
        "### Data preparation for Neural Network"
      ]
    },
    {
      "cell_type": "code",
      "metadata": {
        "id": "-rAbaEOxm75y",
        "colab_type": "code",
        "colab": {}
      },
      "source": [
        "xtrain = xtrain.reshape(-1, 3072)\n",
        "xtest = xtest.reshape(-1, 3072)\n",
        "xval = test_data.iloc[:, :].values.reshape(-1, 3072)"
      ],
      "execution_count": null,
      "outputs": []
    },
    {
      "cell_type": "code",
      "metadata": {
        "id": "Z9BPx-NBo5It",
        "colab_type": "code",
        "colab": {}
      },
      "source": [
        "ytrain = to_categorical(ytrain, num_classes=10)\n",
        "ytest = to_categorical(ytest, num_classes=10)"
      ],
      "execution_count": null,
      "outputs": []
    },
    {
      "cell_type": "code",
      "metadata": {
        "id": "45UAXLaxpJUN",
        "colab_type": "code",
        "colab": {
          "base_uri": "https://localhost:8080/",
          "height": 689
        },
        "outputId": "4368cb40-aa2b-40d1-d460-88d539b3e270"
      },
      "source": [
        "history = model.fit(\n",
        "    xtrain,\n",
        "    ytrain,\n",
        "    batch_size=32,\n",
        "    epochs=20,\n",
        "    verbose=1,\n",
        "    validation_data = (xtest, ytest)\n",
        ")"
      ],
      "execution_count": null,
      "outputs": [
        {
          "output_type": "stream",
          "text": [
            "Epoch 1/20\n",
            "1563/1563 [==============================] - 13s 8ms/step - loss: 0.5341 - accuracy: 0.8053 - val_loss: 3.1720 - val_accuracy: 0.3977\n",
            "Epoch 2/20\n",
            "1563/1563 [==============================] - 13s 9ms/step - loss: 0.5167 - accuracy: 0.8121 - val_loss: 3.2469 - val_accuracy: 0.3921\n",
            "Epoch 3/20\n",
            "1563/1563 [==============================] - 13s 8ms/step - loss: 0.5043 - accuracy: 0.8156 - val_loss: 3.3159 - val_accuracy: 0.3893\n",
            "Epoch 4/20\n",
            "1563/1563 [==============================] - 13s 8ms/step - loss: 0.5298 - accuracy: 0.8074 - val_loss: 3.2303 - val_accuracy: 0.4021\n",
            "Epoch 5/20\n",
            "1563/1563 [==============================] - 13s 9ms/step - loss: 0.4938 - accuracy: 0.8191 - val_loss: 3.3045 - val_accuracy: 0.4014\n",
            "Epoch 6/20\n",
            "1563/1563 [==============================] - 13s 8ms/step - loss: 0.4732 - accuracy: 0.8271 - val_loss: 3.2992 - val_accuracy: 0.4007\n",
            "Epoch 7/20\n",
            "1563/1563 [==============================] - 13s 8ms/step - loss: 0.4936 - accuracy: 0.8210 - val_loss: 3.5675 - val_accuracy: 0.3911\n",
            "Epoch 8/20\n",
            "1563/1563 [==============================] - 13s 8ms/step - loss: 0.4891 - accuracy: 0.8220 - val_loss: 3.4941 - val_accuracy: 0.4032\n",
            "Epoch 9/20\n",
            "1563/1563 [==============================] - 13s 8ms/step - loss: 0.4904 - accuracy: 0.8210 - val_loss: 3.3831 - val_accuracy: 0.3983\n",
            "Epoch 10/20\n",
            "1563/1563 [==============================] - 13s 8ms/step - loss: 0.4779 - accuracy: 0.8255 - val_loss: 3.4769 - val_accuracy: 0.4152\n",
            "Epoch 11/20\n",
            "1563/1563 [==============================] - 13s 8ms/step - loss: 0.4779 - accuracy: 0.8273 - val_loss: 3.5208 - val_accuracy: 0.3924\n",
            "Epoch 12/20\n",
            "1563/1563 [==============================] - 13s 8ms/step - loss: 0.4585 - accuracy: 0.8343 - val_loss: 3.4337 - val_accuracy: 0.3949\n",
            "Epoch 13/20\n",
            "1563/1563 [==============================] - 13s 8ms/step - loss: 0.4626 - accuracy: 0.8317 - val_loss: 3.4679 - val_accuracy: 0.3968\n",
            "Epoch 14/20\n",
            "1563/1563 [==============================] - 13s 8ms/step - loss: 0.4500 - accuracy: 0.8373 - val_loss: 3.4959 - val_accuracy: 0.4072\n",
            "Epoch 15/20\n",
            "1563/1563 [==============================] - 13s 8ms/step - loss: 0.4484 - accuracy: 0.8359 - val_loss: 3.7091 - val_accuracy: 0.3970\n",
            "Epoch 16/20\n",
            "1563/1563 [==============================] - 13s 8ms/step - loss: 0.4398 - accuracy: 0.8398 - val_loss: 3.6157 - val_accuracy: 0.3964\n",
            "Epoch 17/20\n",
            "1563/1563 [==============================] - 13s 8ms/step - loss: 0.4392 - accuracy: 0.8392 - val_loss: 4.0296 - val_accuracy: 0.3681\n",
            "Epoch 18/20\n",
            "1563/1563 [==============================] - 13s 8ms/step - loss: 0.4190 - accuracy: 0.8481 - val_loss: 3.7149 - val_accuracy: 0.4083\n",
            "Epoch 19/20\n",
            "1563/1563 [==============================] - 13s 9ms/step - loss: 0.4213 - accuracy: 0.8489 - val_loss: 3.9294 - val_accuracy: 0.3950\n",
            "Epoch 20/20\n",
            "1563/1563 [==============================] - 13s 8ms/step - loss: 0.4227 - accuracy: 0.8481 - val_loss: 3.7682 - val_accuracy: 0.3982\n"
          ],
          "name": "stdout"
        }
      ]
    },
    {
      "cell_type": "code",
      "metadata": {
        "id": "lS-TzzbUmDJx",
        "colab_type": "code",
        "colab": {}
      },
      "source": [
        ""
      ],
      "execution_count": null,
      "outputs": []
    },
    {
      "cell_type": "code",
      "metadata": {
        "id": "3Jtp_Os6pmZr",
        "colab_type": "code",
        "colab": {}
      },
      "source": [
        "pred = model.predict(xval)\n",
        "res = pd.DataFrame(np.argmax(pred, axis=1))\n",
        "res.columns = ['prediction']\n",
        "','.join(res.prediction.map(str).to_list())"
      ],
      "execution_count": null,
      "outputs": []
    },
    {
      "cell_type": "markdown",
      "metadata": {
        "id": "XTqES7TqRGHJ",
        "colab_type": "text"
      },
      "source": [
        "Model 2"
      ]
    },
    {
      "cell_type": "code",
      "metadata": {
        "id": "_Hux7iNqRHJh",
        "colab_type": "code",
        "colab": {}
      },
      "source": [
        "model2 = Sequential()\n",
        "model2.add(Dense(512, activation='relu', input_shape = (3072, )))\n",
        "\n",
        "\n",
        "model2.add(Dense(1024, activation='relu'))\n",
        "model2.add(Dense(1024, activation='relu'))\n",
        "model2.add(Dense(1024, activation='relu'))\n",
        "model2.add(Dense(512, activation='relu'))\n",
        "model2.add(Dense(215, activation='relu'))\n",
        "\n",
        "\n",
        "model2.add(Dense(10, activation='softmax'))\n",
        "model2.compile(loss='categorical_crossentropy', optimizer=Adam(learning_rate=0.00001), metrics=['accuracy'])"
      ],
      "execution_count": null,
      "outputs": []
    },
    {
      "cell_type": "code",
      "metadata": {
        "id": "SE-T6LQkSzE3",
        "colab_type": "code",
        "colab": {}
      },
      "source": [
        "es = EarlyStopping(patience=2)"
      ],
      "execution_count": null,
      "outputs": []
    },
    {
      "cell_type": "code",
      "metadata": {
        "id": "WfKieXs3S42L",
        "colab_type": "code",
        "colab": {
          "base_uri": "https://localhost:8080/",
          "height": 689
        },
        "outputId": "70c51aa4-2ab3-425b-8605-13b24c7fe1b0"
      },
      "source": [
        "history = model2.fit(\n",
        "    xtrain,\n",
        "    ytrain,\n",
        "    batch_size=32,\n",
        "    epochs=20,\n",
        "    verbose=1,\n",
        "    validation_data = (xtest, ytest),\n",
        "    callbacks = [es]\n",
        ")"
      ],
      "execution_count": null,
      "outputs": [
        {
          "output_type": "stream",
          "text": [
            "Epoch 1/20\n",
            "1563/1563 [==============================] - 101s 64ms/step - loss: 1.9438 - accuracy: 0.2797 - val_loss: 1.8638 - val_accuracy: 0.3156\n",
            "Epoch 2/20\n",
            "1563/1563 [==============================] - 100s 64ms/step - loss: 1.9070 - accuracy: 0.2983 - val_loss: 1.8412 - val_accuracy: 0.3292\n",
            "Epoch 3/20\n",
            "1563/1563 [==============================] - 101s 65ms/step - loss: 1.8802 - accuracy: 0.3124 - val_loss: 1.8056 - val_accuracy: 0.3458\n",
            "Epoch 4/20\n",
            "1563/1563 [==============================] - 100s 64ms/step - loss: 1.8569 - accuracy: 0.3200 - val_loss: 1.7903 - val_accuracy: 0.3476\n",
            "Epoch 5/20\n",
            "1563/1563 [==============================] - 97s 62ms/step - loss: 1.8281 - accuracy: 0.3356 - val_loss: 1.7592 - val_accuracy: 0.3626\n",
            "Epoch 6/20\n",
            "1563/1563 [==============================] - 97s 62ms/step - loss: 1.8089 - accuracy: 0.3404 - val_loss: 1.7529 - val_accuracy: 0.3601\n",
            "Epoch 7/20\n",
            "1563/1563 [==============================] - 97s 62ms/step - loss: 1.7888 - accuracy: 0.3486 - val_loss: 1.7313 - val_accuracy: 0.3690\n",
            "Epoch 8/20\n",
            "1563/1563 [==============================] - 97s 62ms/step - loss: 1.7731 - accuracy: 0.3563 - val_loss: 1.7249 - val_accuracy: 0.3766\n",
            "Epoch 9/20\n",
            "1563/1563 [==============================] - 97s 62ms/step - loss: 1.7551 - accuracy: 0.3640 - val_loss: 1.7004 - val_accuracy: 0.3843\n",
            "Epoch 10/20\n",
            "1563/1563 [==============================] - 98s 62ms/step - loss: 1.7442 - accuracy: 0.3655 - val_loss: 1.6918 - val_accuracy: 0.3910\n",
            "Epoch 11/20\n",
            "1563/1563 [==============================] - 98s 63ms/step - loss: 1.7334 - accuracy: 0.3702 - val_loss: 1.6734 - val_accuracy: 0.4017\n",
            "Epoch 12/20\n",
            "1563/1563 [==============================] - 97s 62ms/step - loss: 1.7123 - accuracy: 0.3800 - val_loss: 1.6738 - val_accuracy: 0.3992\n",
            "Epoch 13/20\n",
            "1563/1563 [==============================] - 98s 63ms/step - loss: 1.7041 - accuracy: 0.3840 - val_loss: 1.6597 - val_accuracy: 0.4056\n",
            "Epoch 14/20\n",
            "1563/1563 [==============================] - 97s 62ms/step - loss: 1.6902 - accuracy: 0.3885 - val_loss: 1.6526 - val_accuracy: 0.4110\n",
            "Epoch 15/20\n",
            "1563/1563 [==============================] - 97s 62ms/step - loss: 1.6747 - accuracy: 0.3987 - val_loss: 1.6384 - val_accuracy: 0.4122\n",
            "Epoch 16/20\n",
            "1563/1563 [==============================] - 97s 62ms/step - loss: 1.6654 - accuracy: 0.3957 - val_loss: 1.6317 - val_accuracy: 0.4164\n",
            "Epoch 17/20\n",
            "1563/1563 [==============================] - 98s 62ms/step - loss: 1.6568 - accuracy: 0.4033 - val_loss: 1.6225 - val_accuracy: 0.4167\n",
            "Epoch 18/20\n",
            "1563/1563 [==============================] - 96s 62ms/step - loss: 1.6397 - accuracy: 0.4087 - val_loss: 1.6217 - val_accuracy: 0.4172\n",
            "Epoch 19/20\n",
            "1563/1563 [==============================] - 97s 62ms/step - loss: 1.6364 - accuracy: 0.4116 - val_loss: 1.6037 - val_accuracy: 0.4269\n",
            "Epoch 20/20\n",
            "1563/1563 [==============================] - 97s 62ms/step - loss: 1.6211 - accuracy: 0.4171 - val_loss: 1.6093 - val_accuracy: 0.4290\n"
          ],
          "name": "stdout"
        }
      ]
    },
    {
      "cell_type": "code",
      "metadata": {
        "id": "hNlrNu23TNO6",
        "colab_type": "code",
        "colab": {
          "base_uri": "https://localhost:8080/",
          "height": 120
        },
        "outputId": "58cddcae-77cc-4e17-9e4b-3c44dede4da6"
      },
      "source": [
        "pred = model2.predict(xval)\n",
        "res = pd.DataFrame(np.argmax(pred, axis=1))\n",
        "res.columns = ['prediction']\n",
        "','.join(res.prediction.map(str).to_list())"
      ],
      "execution_count": null,
      "outputs": [
        {
          "output_type": "execute_result",
          "data": {
            "application/vnd.google.colaboratory.intrinsic+json": {
              "type": "string"
            },
            "text/plain": [
              "'7,5,4,1,3,1,3,7,6,5,8,9,5,1,3,4,0,2,2,6,3,9,2,9,2,8,8,2,5,7,7,5,7,2,2,0,6,4,8,7,0,2,5,1,4,5,2,2,4,2,1,8,7,5,8,9,1,4,1,0,3,1,7,6,1,1,8,8,5,1,6,6,9,9,5,0,4,3,4,3,2,5,8,9,9,2,6,2,9,4,6,5,8,0,1,0,0,8,4,2,8,7,2,2,7,7,6,9,5,0,9,0,0,0,1,4,7,3,9,2,1,1,1,0,6,3,4,8,1,8,7,3,2,0,5,7,1,0,8,6,7,9,3,4,4,9,3,8,1,0,9,2,6,8,4,5,6,6,2,0,2,4,1,4,6,9,8,1,8,1,0,9,8,2,1,2,8,2,1,7,2,5,2,5,0,5,4,9,2,6,6,2,0,4,6,4,4,6,8,1,1,6,6,6,1,8,1,4,2,2,4,8,1,5,4,8,6,2,7,5,6,2,2,3,5,3,1,0,2,4,6,4,2,1,9,8,8,8,0,9,9,6,4,2,2,4,5,6,6,1,9,9,8,1,6,5,5,8,2,2,6,8,1,9,0,6,0,9,7,4,5,8,0,1,5,6,8,6,9,0,2,5,6,0,1,0,2,6,8,2,7,2,8,8,8,3,9,3,9,5,2,2,6,1,0,1,0,9,5,9,6,3,7,8,8,5,2,5,8,9,2,8,1,9,4,1,8,1,6,8,2,4,8,7,9,1,3,2,6,4,2,8,1,4,3,5,4,5,8,2,0,6,1,0,0,2,1,0,9,8,0,6,3,1,1,7,2,3,9,2,8,4,1,2,0,2,5,9,2,5,3,9,2,0,3,6,2,1,6,2,2,7,6,2,8,6,2,6,2,7,9,5,5,8,9,9,8,1,3,6,1,2,0,2,9,3,6,3,7,9,0,8,0,3,9,8,6,8,6,3,3,2,1,2,0,9,9,7,7,1,2,9,8,9,7,7,9,9,9,5,9,1,1,5,2,8,9,4,1,0,1,2,3,2,4,6,8,8,8,8,2,7,4,1,6,9,8,1,5,2,5,6,6,1,3,9,5,5,1,9,4,4,2,5,3,4,0,6,0,6,9,2,9,7,7,2,1,9,2,1,6,6,6,2,5,2,8,1,8,9,1,0,3,1,0,9,6,9,1,3,2,6,5,6,6,2,9,1,6,1,0,9,2,8,2,8,8,4,2,8,4,1,7,6,6,2,0,8,7,2,7,2,6,8,4,0,6,5,6,5,8,8,0,5,3,9,2,3,9,0,2,2,1,2,7,2,1,2,0,6,4,4,6,3,3,1,1,6,8,0,2,2,2,2,9,7,1,8,2,6,6,4,1,2,1,3,6,6,9,6,9,6,2,8,1,8,8,2,4,9,8,1,6,1,7,2,7,7,5,1,2,1,6,2,6,6,3,6,0,9,5,0,8,4,9,2,2,3,6,9,8,2,1,6,1,4,1,1,0,9,9,5,9,6,4,9,9,7,9,6,6,2,7,8,8,0,0,9,1,4,2,0,8,2,0,2,8,0,7,2,6,6,3,3,1,4,6,2,2,7,1,7,7,2,9,2,0,5,4,2,7,8,4,9,5,0,6,7,4,1,1,3,6,9,3,5,2,5,0,0,8,3,6,5,7,7,9,5,9,9,6,9,1,6,1,7,6,1,8,8,1,2,7,1,0,8,1,1,5,7,0,5,7,0,4,8,6,9,6,2,5,4,8,1,7,0,6,9,9,1,6,9,0,0,0,8,8,8,4,4,6,6,7,0,5,9,2,8,1,4,5,1,2,5,6,7,0,9,0,8,5,8,0,8,4,7,9,4,4,0,6,8,5,4,1,7,6,8,9,8,5,8,0,0,4,3,4,8,9,2,6,1,2,2,8,9,9,5,6,3,6,1,4,9,2,8,9,7,9,0,6,6,8,5,4,7,7,7,3,7,0,7,6,7,9,6,9,2,6,0,6,3,9,2,2,8,2,6,9,0,2,8,7,6,5,6,9,6,6,6,7,2,0,1,2,6,2,8,2,6,1,8,6,6,8,3,3,2,0,6,7,6,1,7,6,2,1,7,9,7,7,9,0,7,2,6,6,9,6,0,6,6,9,2,6,5,7,6,8,6,4,6,7,5,4,8,8,9,1,2,6,7,6,8,7,9,9,2,3,4,2,9,9,7,0,0,6,0,9,8,1,0,9,8,2,9,5,1,2,2,2,9,2,9,4,5,7,4,6,7,3,6,5,2,6,2,7,6,8,4,4,9,5,6,7,5,7,0,0,4,8,8,2,9,7,7,0,8,9,5,6,6,2,8,7,4,3,5,7,9,1,0,9,6,0,9,1,9,3,1,7,6,6,0,6,6,1,3,7,8,0,9,9,6,6,1,7,9,9,6,6,2,2,2,1,9,8,1,9,6,8,8,5,9,2,6,9,6,9,7,7,3,5,5,0,1,6,9,8,2,5,7,9,6,8,0,4,1,9,5,0,1,1,6,1,3,7,8,5,2,2,1,2,1,2,9,3,7,9,2,8,4,5,4,5,8,9,8,0,0,6,1,9,1,1,9,9,6,2,8,0,8,9,0,7,9,2,3,5,2,7,7,3,8,9,0,9,0,8,1,8,0,0,1,1,3,7,7,8,4,1,4,0,8,2,7,2,8,9,8,7,2,4,7,7,3,1,0,8,4,0,8,1,8,0,2,3,0,6,1,8,7,9,6,2,1,3,6,8,1,1,6,5,8,8,3,2,3,1,1,2,1,9,6,9,8,8,2,3,8,7,2,2,3,8,7,5,9,6,9,8,5,9,1,9,6,6,3,8,1,6,4,4,2,9,6,6,2,9,9,0,1,5,7,6,4,2,9,2,2,1,0,1,3,2,7,8,8,1,8,8,8,1,7,0,5,9,8,1,4,2,8,7,3,4,8,5,6,5,1,4,2,7,2,2,9,3,2,2,0,0,2,9,1,6,8,2,8,0,1,5,0,5,8,6,4,0,7,4,8,1,5,9,8,2,6,2,2,5,8,4,0,1,1,0,9,9,5,4,4,8,8,3,2,9,3,4,2,1,5,3,1,2,2,4,6,5,0,1,6,3,1,0,0,9,0,1,8,4,0,5,6,3,6,8,0,3,1,2,4,8,7,2,1,3,2,8,9,4,3,2,6,7,5,6,2,8,6,0,7,2,8,6,8,8,2,3,2,2,1,0,9,0,9,5,0,1,6,1,7,5,1,6,5,9,9,7,6,8,2,9,1,6,2,9,1,0,9,8,8,9,8,9,1,8,1,8,6,6,6,6,8,8,6,6,6,0,6,6,4,4,3,2,8,9,8,8,0,1,1,8,9,9,2,4,1,3,9,7,0,5,7,0,7,4,7,9,1,6,5,7,4,6,0,3,2,0,2,4,3,6,4,7,8,0,8,4,9,4,2,9,5,0,2,9,7,9,2,7,2,8,4,7,4,9,1,3,5,1,2,1,8,7,4,8,2,2,6,6,1,3,6,7,0,2,0,0,8,0,2,3,5,7,8,1,9,1,4,7,7,4,0,8,9,6,4,8,2,3,0,8,2,2,0,3,7,1,9,2,7,3,2,6,2,5,5,9,9,6,9,5,0,8,8,2,3,1,8,8,9,4,5,2,4,4,8,1,4,1,9,1,3,2,8,6,6,3,6,0,6,8,2,0,8,2,6,7,9,0,1,6,5,6,7,5,4,3,9,6,8,8,2,8,7,6,3,0,1,5,8,0,7,6,6,9,2,9,0,9,1,9,8,2,8,7,8,5,7,5,5,8,4,6,0,1,2,3,9,6,7,6,2,6,2,9,6,1,6,4,6,1,2,0,6,2,7,7,8,0,9,0,2,0,7,5,7,2,5,4,2,1,1,4,8,6,7,5,1,8,6,6,7,4,7,3,2,7,1,3,9,7,5,8,1,1,5,4,2,2,4,2,8,8,7,5,7,1,4,8,5,8,2,7,0,2,3,1,3,8,8,0,5,6,8,8,6,2,0,0,5,0,0,2,2,5,8,4,9,6,1,9,1,2,6,6,5,4,6,8,2,1,5,8,6,5,6,1,9,7,6,0,6,0,9,0,1,8,6,1,0,4,8,1,9,0,6,2,2,8,5,6,2,6,2,9,6,2,1,8,2,2,2,1,0,8,8,9,5,1,0,7,6,7,9,2,5,2,2,1,6,6,2,6,5,6,2,6,9,7,8,6,9,1,6,1,6,6,9,0,2,7,4,2,2,4,2,7,0,1,8,2,0,3,2,9,4,8,5,8,6,9,4,1,2,2,4,1,2,8,5,2,1,4,2,2,4,8,5,0,1,9,0,2,8,7,2,8,1,9,3,0,8,9,4,5,9,6,2,1,3,2,6,6,5,8,6,9,8,8,9,8,9,8,1,0,3,1,0,6,1,0,4,1,1,7,1,6,4,9,6,6,9,8,2,9,8,0,6,8,2'"
            ]
          },
          "metadata": {
            "tags": []
          },
          "execution_count": 173
        }
      ]
    },
    {
      "cell_type": "code",
      "metadata": {
        "id": "9SPhPZvOWXVG",
        "colab_type": "code",
        "colab": {}
      },
      "source": [
        ""
      ],
      "execution_count": null,
      "outputs": []
    }
  ]
}